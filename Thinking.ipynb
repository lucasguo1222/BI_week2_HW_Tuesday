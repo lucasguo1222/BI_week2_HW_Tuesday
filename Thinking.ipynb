{
 "cells": [
  {
   "cell_type": "markdown",
   "metadata": {},
   "source": [
    "# Thinking For Week2 - Tuesday"
   ]
  },
  {
   "cell_type": "markdown",
   "metadata": {},
   "source": [
    "## Thinking 1 关联规则中的支持度、置信度和提升度代表的什么，如何计算"
   ]
  },
  {
   "cell_type": "markdown",
   "metadata": {},
   "source": [
    "##### 关联规则是指反映一个事物与其他事物之间的相互依存性和关联性。如果两个或多个事物之间存在一定的关联关系，那么，其中一个事物就能够通过其他事物预测到。 它的支持度是指某个商品组合出现的次数与总次数的之间的比例。支持度越高，代表这个组合出现的频率越大，是一个百分比。计算是通过商品组合出现的次数除于所有的订单次数。\n",
    "##### 关联规则的置信度是指个条件概念。指的是当用户购买了商品A，会有多大概率购买商品B。计算方法是商品A和商品B同时出现的次数除于商品A出现的次数。\n",
    "##### 提升度指的是商品A出现对于商品B出现概率提升的程度。等于置信度除于支持度。大于1代表有提升，小于1表示有下降，等于1代表没有影响。"
   ]
  },
  {
   "cell_type": "markdown",
   "metadata": {},
   "source": [
    "## Thinking 2 关联规则与协同过滤的区别"
   ]
  },
  {
   "cell_type": "markdown",
   "metadata": {},
   "source": [
    "##### 关联规则是基于transaction，也就是用户的订单，并不是用户的偏好。最后得到的是一个整体的行为和预测，针对的目标是所有潜在客户。而协同过滤是基于用户偏好，最后会得到个性化的推荐而不是整体的推荐。"
   ]
  },
  {
   "cell_type": "markdown",
   "metadata": {},
   "source": [
    "## Thinking 3 为什么我们需要多种推荐算法"
   ]
  },
  {
   "cell_type": "markdown",
   "metadata": {},
   "source": [
    "##### 因为不同的算法有不同的优点，多种算法可以使得我们能够在各种场景下都推荐产品给用户。比如冷启动的情况下协同过滤就不合适，而应该使用基于内容的推荐或者是关联规则。"
   ]
  },
  {
   "cell_type": "markdown",
   "metadata": {},
   "source": [
    "## Thinking 4 关联规则中的最小支持度、最小置信度该如何确定"
   ]
  },
  {
   "cell_type": "markdown",
   "metadata": {},
   "source": [
    "##### 一般取决于数据集的大小，如果需要分析的数据集比较大，那么就应该把最小支持度和最小置信度设置的小一些，这样可能得到的频繁项集和关联规则会多一些。当数据集小的时候，又应该使用大一点的最小支持度和最小置信度。最小支持度可能在0.01到0.5之间，而最小置信度大概是0.5到1之间。"
   ]
  },
  {
   "cell_type": "markdown",
   "metadata": {},
   "source": [
    "## Thinking 5 都有哪些常见的回归分析方法，评价指标是什么"
   ]
  },
  {
   "cell_type": "markdown",
   "metadata": {},
   "source": [
    "##### 常见的回归分析方法有线性回归，逻辑回归还有多项式回归。评价指标有MSE，数值越小，模型越好。然后还有R方，越接近1，表明方程的变量对y的解释能力越强，这个模型对数据拟合的也较好"
   ]
  },
  {
   "cell_type": "code",
   "execution_count": null,
   "metadata": {},
   "outputs": [],
   "source": []
  }
 ],
 "metadata": {
  "kernelspec": {
   "display_name": "Python 3",
   "language": "python",
   "name": "python3"
  },
  "language_info": {
   "codemirror_mode": {
    "name": "ipython",
    "version": 3
   },
   "file_extension": ".py",
   "mimetype": "text/x-python",
   "name": "python",
   "nbconvert_exporter": "python",
   "pygments_lexer": "ipython3",
   "version": "3.8.3"
  }
 },
 "nbformat": 4,
 "nbformat_minor": 4
}
